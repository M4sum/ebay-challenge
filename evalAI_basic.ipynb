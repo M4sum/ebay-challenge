{
  "nbformat": 4,
  "nbformat_minor": 0,
  "metadata": {
    "colab": {
      "name": "evalAI.ipynb",
      "provenance": [],
      "authorship_tag": "ABX9TyPM1xz+yTX8LN3fNamqfI+I",
      "include_colab_link": true
    },
    "kernelspec": {
      "name": "python3",
      "display_name": "Python 3"
    }
  },
  "cells": [
    {
      "cell_type": "markdown",
      "metadata": {
        "id": "view-in-github",
        "colab_type": "text"
      },
      "source": [
        "<a href=\"https://colab.research.google.com/github/M4sum/nothing-confidential/blob/main/evalAI_basic.ipynb\" target=\"_parent\"><img src=\"https://colab.research.google.com/assets/colab-badge.svg\" alt=\"Open In Colab\"/></a>"
      ]
    },
    {
      "cell_type": "code",
      "metadata": {
        "id": "d1NGLiTHw60Y"
      },
      "source": [
        "import pandas as pd\n",
        "import re"
      ],
      "execution_count": null,
      "outputs": []
    },
    {
      "cell_type": "code",
      "metadata": {
        "id": "FuNUMYrtXXCU",
        "colab": {
          "base_uri": "https://localhost:8080/"
        },
        "outputId": "1ba641ef-db5d-424a-c472-e45aec835602"
      },
      "source": [
        "from google.colab import drive\n",
        "drive.mount('/content/drive')"
      ],
      "execution_count": null,
      "outputs": [
        {
          "output_type": "stream",
          "text": [
            "Mounted at /content/drive\n"
          ],
          "name": "stdout"
        }
      ]
    },
    {
      "cell_type": "code",
      "metadata": {
        "id": "9fNqI_LgJF8A"
      },
      "source": [
        "def attr_parse(f):\n",
        "  new_data = []\n",
        "  for row in f:\n",
        "    row = re.sub(r'\\n', \"\", row)\n",
        "    row = row.split(\"\\t\")\n",
        "    new_data.append(row)\n",
        "    x = row[3]\n",
        "    x = re.sub(r'^\\(', \"\", x)\n",
        "    x = re.sub(r'\\)$', \"\", x)\n",
        "    x = re.split(\":+\", x)\n",
        "    attr = {}\n",
        "    for i in range(len(x)):\n",
        "      x[i] = re.split(\",\", x[i])\n",
        "    for i in range(len(x)-1):\n",
        "      if i != len(x)-2:\n",
        "        attr[x[i][-1]] = ','.join(x[i+1][:-1])\n",
        "      else:\n",
        "        attr[x[i][-1]] = ','.join(x[i+1])\n",
        "    new_data[-1][3] = attr\n",
        "\n",
        "  return new_data"
      ],
      "execution_count": null,
      "outputs": []
    },
    {
      "cell_type": "code",
      "metadata": {
        "colab": {
          "base_uri": "https://localhost:8080/"
        },
        "id": "SO8iiwBoVy4d",
        "outputId": "12dfe09c-4a63-4fbb-c25d-fee993820689"
      },
      "source": [
        "!wget -O mlchallenge_set_2021.tsv https://www.dropbox.com/s/say7qahmx3hgj7h/mlchallenge_set_2021.tsv?dl=0"
      ],
      "execution_count": null,
      "outputs": [
        {
          "output_type": "stream",
          "text": [
            "--2020-12-20 08:50:34--  https://www.dropbox.com/s/say7qahmx3hgj7h/mlchallenge_set_2021.tsv?dl=0\n",
            "Resolving www.dropbox.com (www.dropbox.com)... 162.125.3.18, 2620:100:601b:18::a27d:812\n",
            "Connecting to www.dropbox.com (www.dropbox.com)|162.125.3.18|:443... connected.\n",
            "HTTP request sent, awaiting response... 301 Moved Permanently\n",
            "Location: /s/raw/say7qahmx3hgj7h/mlchallenge_set_2021.tsv [following]\n",
            "--2020-12-20 08:50:35--  https://www.dropbox.com/s/raw/say7qahmx3hgj7h/mlchallenge_set_2021.tsv\n",
            "Reusing existing connection to www.dropbox.com:443.\n",
            "HTTP request sent, awaiting response... 302 Found\n",
            "Location: https://uc92882c332edc8023f9d938e88a.dl.dropboxusercontent.com/cd/0/inline/BFacuYFx_VZ1u4KCqwCPLp4ijPGKep5NZCudGProOMkLcXXQVyvyqHh3grP2vFBqGccqvXQJvDYtjjiI-VZtvj2n823QL8JjnaZWz0YX0L1PylKWsauHTXXKD4qTklzBxc8/file# [following]\n",
            "--2020-12-20 08:50:35--  https://uc92882c332edc8023f9d938e88a.dl.dropboxusercontent.com/cd/0/inline/BFacuYFx_VZ1u4KCqwCPLp4ijPGKep5NZCudGProOMkLcXXQVyvyqHh3grP2vFBqGccqvXQJvDYtjjiI-VZtvj2n823QL8JjnaZWz0YX0L1PylKWsauHTXXKD4qTklzBxc8/file\n",
            "Resolving uc92882c332edc8023f9d938e88a.dl.dropboxusercontent.com (uc92882c332edc8023f9d938e88a.dl.dropboxusercontent.com)... 162.125.3.15, 2620:100:601b:15::a27d:80f\n",
            "Connecting to uc92882c332edc8023f9d938e88a.dl.dropboxusercontent.com (uc92882c332edc8023f9d938e88a.dl.dropboxusercontent.com)|162.125.3.15|:443... connected.\n",
            "HTTP request sent, awaiting response... 200 OK\n",
            "Length: 792361205 (756M) [text/plain]\n",
            "Saving to: ‘mlchallenge_set_2021.tsv’\n",
            "\n",
            "mlchallenge_set_202 100%[===================>] 755.65M  89.0MB/s    in 10s     \n",
            "\n",
            "2020-12-20 08:50:46 (73.2 MB/s) - ‘mlchallenge_set_2021.tsv’ saved [792361205/792361205]\n",
            "\n"
          ],
          "name": "stdout"
        }
      ]
    },
    {
      "cell_type": "code",
      "metadata": {
        "colab": {
          "base_uri": "https://localhost:8080/"
        },
        "id": "1Ctou4M92fpR",
        "outputId": "e9c0be70-784d-43b6-f5d6-f75c4ed94c72"
      },
      "source": [
        "f = open(\"mlchallenge_set_2021.tsv\")\n",
        "parsed_data = attr_parse(f)\n",
        "print(parsed_data[10])\n",
        "# for x in f:\n",
        "#   data_list = x.split(\"\")"
      ],
      "execution_count": null,
      "outputs": [
        {
          "output_type": "stream",
          "text": [
            "['2', 'http://i.ebayimg.com/00/s/MTIwMFgxNjAw/z/qm0AAOSwoydWlBUd/$_1.JPG?set_id=880000500F', 'http://i.ebayimg.com/00/s/MTIwMFgxNjAw/z/qm0AAOSwoydWlBUd/$_1.JPG?set_id=880000500F;http://i.ebayimg.com/00/s/MTIwMFgxNjAw/z/xyEAAOSwaA5WlBUg/$_1.JPG?set_id=880000500F;http://i.ebayimg.com/00/s/MTIwMFgxNjAw/z/IREAAOSwZG9WlBUm/$_1.JPG?set_id=880000500F;http://i.ebayimg.com/00/s/MTIwMFgxNjAw/z/CWEAAOSwX~dWlBUp/$_1.JPG?set_id=880000500F;', {\"US Shoe Size (Men's)\": '9', 'Style': 'Cleats', 'Width': 'Medium (D, M)', 'Brand': 'Nike', 'Color': 'Multi-Color'}, '10']\n"
          ],
          "name": "stdout"
        }
      ]
    }
  ]
}